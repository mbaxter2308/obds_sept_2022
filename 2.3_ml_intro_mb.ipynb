{
 "cells": [
  {
   "cell_type": "markdown",
   "id": "12533ba6-a414-4fe7-8bec-d4f27d39b2e5",
   "metadata": {},
   "source": [
    "# Using ML techniques to infer a multiplier\n",
    "\n",
    "### Scenario\n",
    "\n",
    "You discover that the number of apple seeds is directly tied to the overall height of the fruit, the seed count just needs to be multiplied by some fixed number. Create a model such that given the number of seeds, you can predict the height of the fruit. ***Use an iterative guessing approach to estimate the value of the multiplier.***"
   ]
  },
  {
   "cell_type": "markdown",
   "id": "2cc3efe5-553f-4be9-95e0-ee1a4c96ebea",
   "metadata": {},
   "source": [
    "### We use two packages for this\n",
    "1. random - to generate random numbers\n",
    "2. numpy - this package handles matricies (or more technically arrays, which may have more dimensions than a matrix)"
   ]
  },
  {
   "cell_type": "code",
   "execution_count": 1,
   "id": "6359a1f8-8f41-4709-9898-7faf13fa5d4a",
   "metadata": {},
   "outputs": [],
   "source": [
    "import random\n",
    "import numpy as np"
   ]
  },
  {
   "cell_type": "markdown",
   "id": "b9bcff20-4918-4051-838a-8e9e788d0400",
   "metadata": {},
   "source": [
    "## Part 1 - Set up data"
   ]
  },
  {
   "cell_type": "markdown",
   "id": "21f82737-0ec7-4981-aaea-b95537961a83",
   "metadata": {},
   "source": [
    "### Randomly select the multiplier\n",
    "This will be the value the seed count is multiplied by, and the number we're trying to discover\n",
    "* Select a random number between 10 and 100 (uniform distribution) and set it equal to a variable named \"actual_multiplier\""
   ]
  },
  {
   "cell_type": "code",
   "execution_count": 2,
   "id": "767e5ea2-fd39-42c8-a615-34ebaff96076",
   "metadata": {},
   "outputs": [
    {
     "name": "stdout",
     "output_type": "stream",
     "text": [
      "-95.07920505823886\n"
     ]
    }
   ],
   "source": [
    "actual_multiplier = random.uniform(-100, 100)\n",
    "print(actual_multiplier)"
   ]
  },
  {
   "cell_type": "markdown",
   "id": "f27dd8bf-eaa5-4006-9ab8-d6905ddc249e",
   "metadata": {},
   "source": [
    "### Collect some apple seeds\n",
    "Collect some samples of apple seeds, and measure the associated fruits\n",
    "* To start we'll use 10 samples with different numbers of seeds in each sample. Here we'll use numbers 1, 2, ..., 9, 10\n",
    "    * Make a numpy array named seed_count_array with these values\n",
    "* For obvious reasons, we will not be measuring any apples right now. We're going to cheat a bit and say that the height of the associated apples were the number of seeds times our multiplier value plus noise\n",
    "    * Make a numpy array called apple_height_array that is length 10, and equal to the seed_count_array times the actual_multiplier\n",
    "    * Use the np.random.random method to create an array of length 10, and name it noise_array\n",
    "    * Add the values from the elements of the noise array to the elements of apple_height_array\n",
    "* Print out the actual_multiplier, seed_count_array, and apple_height_array"
   ]
  },
  {
   "cell_type": "code",
   "execution_count": 3,
   "id": "f3b5b472-30b9-49e1-bbe0-d5fa502896f2",
   "metadata": {},
   "outputs": [
    {
     "name": "stdout",
     "output_type": "stream",
     "text": [
      "-95.07920505823886 [ 1  2  3  4  5  6  7  8  9 10] [ -88.70506101 -186.07140072 -282.81946172 -379.08228113 -468.60839735\n",
      " -563.89356816 -656.71419436 -757.87103042 -849.65667258 -945.30602795]\n"
     ]
    }
   ],
   "source": [
    "seed_count_array = np.array([1,2,3,4,5,6,7,8,9,10])\n",
    "apple_height_array = seed_count_array*actual_multiplier\n",
    "noise_array = np.random.random(size=10)*10\n",
    "apple_height_array = apple_height_array+noise_array\n",
    "\n",
    "print(actual_multiplier, seed_count_array, apple_height_array)"
   ]
  },
  {
   "cell_type": "code",
   "execution_count": 4,
   "id": "2e96f6a9-1413-4d22-a17d-129e35c32ca7",
   "metadata": {},
   "outputs": [
    {
     "name": "stdout",
     "output_type": "stream",
     "text": [
      "[6.37414405 4.0870094  2.41815345 1.23453911 6.78762794 6.58166219\n",
      " 8.84024105 2.76261004 6.05617294 5.48602263]\n"
     ]
    }
   ],
   "source": [
    "print(noise_array)"
   ]
  },
  {
   "cell_type": "code",
   "execution_count": null,
   "id": "2836853c-6f90-4487-b6bf-6c590ae93efc",
   "metadata": {},
   "outputs": [],
   "source": []
  },
  {
   "cell_type": "markdown",
   "id": "34c2c05d-d52f-4a38-be42-fc71c4e47f53",
   "metadata": {},
   "source": [
    "### Sidenote - How contrived is this exercise?\n",
    "\n",
    "This is toy problem where we know the answer before we start. The point of this example is understand overall process of iterative improvement. Relationships typically being modelled with ML are more complicated than a simple multiplier, but suprisingly little changes for more complex problems. Here we're modelling a single parameter, but many models used in biology have 10s of millions, but are built out of many simple calculations like our exercise. The math is more advanced (but maybe not as much as you might think) and beyond our scope, but wouldn't serve much practical use anyway since these calculations are never ever done by hand, and a comprehensive understanding of them is not strictly necessary unless researching novel algorithm designs."
   ]
  },
  {
   "cell_type": "markdown",
   "id": "7671afc0-8e38-41f7-aeba-5308772b45eb",
   "metadata": {},
   "source": [
    "## Part 2 - Build out a training loop"
   ]
  },
  {
   "cell_type": "markdown",
   "id": "47364488-5e4e-4123-88dc-17465b0ce6ae",
   "metadata": {},
   "source": [
    "### Steps (Add steps from slides here)\n",
    "1. write nested for loops to a.) make a random prediction for each sample and b.) go through 10 epochs.\n",
    "    - write a prediction function (named predict_multiplier) that guesses a value from -100 to 100\n",
    "2. write a function called calculate_loss that subtracts prediction from true value\n",
    "3. create a variable that keeps track of best (lowest) loss value. best_loss\n",
    "    - best_param_list: appends list of loss, predicted multiplier, actual multiplier, predicted target, actual target, number of seeds, whenever new best loss is found\n",
    "4. update predict function to take in previous step's predicction and loss to make output more accurate\n",
    "    - add step before loop to initialise these values\n",
    "5. "
   ]
  },
  {
   "cell_type": "code",
   "execution_count": 5,
   "id": "f7b0d68a-944b-47a8-b7f3-54670497b45a",
   "metadata": {},
   "outputs": [],
   "source": [
    "def predict_multiplier():\n",
    "    return random.uniform(-100, 100)    "
   ]
  },
  {
   "cell_type": "code",
   "execution_count": 10,
   "id": "079e272d-0360-4fdf-85dc-a51470259107",
   "metadata": {},
   "outputs": [],
   "source": [
    "def calculate_loss(true_value, prediction):\n",
    "    return true_value - guess\n",
    "    \n"
   ]
  },
  {
   "cell_type": "code",
   "execution_count": 11,
   "id": "ce33a654-6bac-427c-aa30-3e4b6e06b65f",
   "metadata": {},
   "outputs": [],
   "source": [
    "upper=100\n",
    "lower=-100\n",
    "def predict_multiplier():\n",
    "    return random.uniform(lower, upper)    \n",
    "epoch_count = 100\n",
    "best_loss = 100\n",
    "best_params_list=['loss, guess , actual_multiplier, prediction, apple_height_array[sample], seed_count_array[sample]']\n",
    "for epoch in range(epoch_count):\n",
    "    for sample in range(len(seed_count_array)):\n",
    "        guess = predict_multiplier()\n",
    "        prediction = guess*seed_count_array[sample]\n",
    "        loss = calculate_loss(apple_height_array[sample], prediction)\n",
    "        params = (loss, guess, actual_multiplier, prediction, apple_height_array[sample], seed_count_array[sample])\n",
    "        #print(loss)\n",
    "        if abs(loss) < abs(best_loss):\n",
    "            best_loss = loss\n",
    "            best_params_list.append(params)\n",
    "            upper = guess+loss\n",
    "            lower = guess-loss\n",
    "            \n",
    "        #print(loss, guess, actual_multiplier, prediction, apple_height_array[sample], seed_count_array[sample])\n",
    "    #print()"
   ]
  },
  {
   "cell_type": "code",
   "execution_count": 12,
   "id": "5bb929ae-7fbb-4adc-8c26-bc161b056f2a",
   "metadata": {},
   "outputs": [
    {
     "name": "stdout",
     "output_type": "stream",
     "text": [
      "0.0\n",
      "loss, guess , actual_multiplier, prediction, apple_height_array[sample], seed_count_array[sample]\n",
      "(-6.789167972891647, -81.91589303627234, -95.07920505823886, -81.91589303627234, -88.70506100916398, 1)\n",
      "(-2.125524302758663, -86.57953670640532, -95.07920505823886, -86.57953670640532, -88.70506100916398, 1)\n",
      "(-0.391451339233285, -88.3136096699307, -95.07920505823886, -88.3136096699307, -88.70506100916398, 1)\n",
      "(-0.18458303515224372, -88.52047797401174, -95.07920505823886, -88.52047797401174, -88.70506100916398, 1)\n",
      "(-0.10352721274094279, -88.60153379642304, -95.07920505823886, -88.60153379642304, -88.70506100916398, 1)\n",
      "(-0.047821188786741686, -88.65723982037724, -95.07920505823886, -88.65723982037724, -88.70506100916398, 1)\n",
      "(-0.03687639930190301, -88.66818460986208, -95.07920505823886, -88.66818460986208, -88.70506100916398, 1)\n",
      "(-0.023549138088412747, -88.68151187107557, -95.07920505823886, -88.68151187107557, -88.70506100916398, 1)\n",
      "(-0.020646116311809237, -88.68441489285217, -95.07920505823886, -88.68441489285217, -88.70506100916398, 1)\n",
      "(-0.013902204895657633, -88.69115880426833, -95.07920505823886, -88.69115880426833, -88.70506100916398, 1)\n",
      "(-0.009120886220813418, -88.69594012294317, -95.07920505823886, -88.69594012294317, -88.70506100916398, 1)\n",
      "(-0.003308322561920818, -88.70175268660206, -95.07920505823886, -88.70175268660206, -88.70506100916398, 1)\n",
      "(-0.0007888037745829024, -88.7042722053894, -95.07920505823886, -88.7042722053894, -88.70506100916398, 1)\n",
      "(-0.0005887371020065757, -88.70447227206198, -95.07920505823886, -88.70447227206198, -88.70506100916398, 1)\n",
      "(-0.0004326706688715376, -88.70462833849511, -95.07920505823886, -88.70462833849511, -88.70506100916398, 1)\n",
      "(-0.0002251082362931811, -88.70483590092769, -95.07920505823886, -88.70483590092769, -88.70506100916398, 1)\n",
      "(-0.00020950140665831896, -88.70485150775733, -95.07920505823886, -88.70485150775733, -88.70506100916398, 1)\n",
      "(-7.307521781285686e-05, -88.70498793394617, -95.07920505823886, -88.70498793394617, -88.70506100916398, 1)\n",
      "(-5.9268832856673725e-05, -88.70500174033113, -95.07920505823886, -88.70500174033113, -88.70506100916398, 1)\n",
      "(-5.36791490617361e-05, -88.70500733001492, -95.07920505823886, -88.70500733001492, -88.70506100916398, 1)\n",
      "(-3.749908785266598e-05, -88.70502351007613, -95.07920505823886, -88.70502351007613, -88.70506100916398, 1)\n",
      "(-8.08118613804254e-07, -88.70506020104537, -95.07920505823886, -88.70506020104537, -88.70506100916398, 1)\n",
      "(-7.264679595664347e-07, -88.70506028269602, -95.07920505823886, -88.70506028269602, -88.70506100916398, 1)\n",
      "(-5.791560511170246e-07, -88.70506043000793, -95.07920505823886, -88.70506043000793, -88.70506100916398, 1)\n",
      "(-9.260992328563589e-08, -88.70506091655406, -95.07920505823886, -88.70506091655406, -88.70506100916398, 1)\n",
      "(-1.000580596155487e-08, -88.70506099915818, -95.07920505823886, -88.70506099915818, -88.70506100916398, 1)\n",
      "(-6.894538273627404e-09, -88.70506100226945, -95.07920505823886, -88.70506100226945, -88.70506100916398, 1)\n",
      "(-2.439591639813443e-09, -88.70506100672439, -95.07920505823886, -88.70506100672439, -88.70506100916398, 1)\n",
      "(-4.753388793687918e-10, -88.70506100868865, -95.07920505823886, -88.70506100868865, -88.70506100916398, 1)\n",
      "(-2.2374990749085555e-10, -88.70506100894023, -95.07920505823886, -88.70506100894023, -88.70506100916398, 1)\n",
      "(-7.80602249506046e-11, -88.70506100908592, -95.07920505823886, -88.70506100908592, -88.70506100916398, 1)\n",
      "(-6.222933279786957e-11, -88.70506100910175, -95.07920505823886, -88.70506100910175, -88.70506100916398, 1)\n",
      "(-1.1795009413617663e-12, -88.7050610091628, -95.07920505823886, -88.7050610091628, -88.70506100916398, 1)\n",
      "(-7.105427357601002e-14, -88.70506100916391, -95.07920505823886, -88.70506100916391, -88.70506100916398, 1)\n",
      "(-2.842170943040401e-14, -88.70506100916396, -95.07920505823886, -88.70506100916396, -88.70506100916398, 1)\n",
      "(-1.4210854715202004e-14, -88.70506100916397, -95.07920505823886, -88.70506100916397, -88.70506100916398, 1)\n",
      "(0.0, -88.70506100916398, -95.07920505823886, -88.70506100916398, -88.70506100916398, 1)\n"
     ]
    }
   ],
   "source": [
    "print(best_loss)\n",
    "for row in best_params_list:\n",
    "    print(row)    "
   ]
  },
  {
   "cell_type": "code",
   "execution_count": null,
   "id": "117c17ac-c5e4-4ad6-837f-4341a25f1985",
   "metadata": {},
   "outputs": [],
   "source": []
  },
  {
   "cell_type": "code",
   "execution_count": null,
   "id": "1757203c-439f-441a-9fca-e1f6f367a293",
   "metadata": {},
   "outputs": [],
   "source": []
  }
 ],
 "metadata": {
  "kernelspec": {
   "display_name": "Python 3 (ipykernel)",
   "language": "python",
   "name": "python3"
  },
  "language_info": {
   "codemirror_mode": {
    "name": "ipython",
    "version": 3
   },
   "file_extension": ".py",
   "mimetype": "text/x-python",
   "name": "python",
   "nbconvert_exporter": "python",
   "pygments_lexer": "ipython3",
   "version": "3.9.12"
  }
 },
 "nbformat": 4,
 "nbformat_minor": 5
}
